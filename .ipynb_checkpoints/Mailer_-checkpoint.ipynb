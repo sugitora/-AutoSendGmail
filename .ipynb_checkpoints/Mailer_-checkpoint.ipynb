{
 "cells": [
  {
   "cell_type": "code",
   "execution_count": 17,
   "metadata": {},
   "outputs": [],
   "source": [
    "import smtplib\n",
    "from email.mime.text import MIMEText\n",
    "from dotenv import load_dotenv\n",
    "import os\n",
    "import csv\n",
    "import ssl  # SSLのために追加\n",
    "import my_gmail_account as gmail\n",
    "\n",
    "load_dotenv()\n",
    "\n",
    "class Mailer:\n",
    "    def __init__(self, addr_to, subject, body):\n",
    "        self.password = os.getenv('PASSWORD')\n",
    "        self.addr_from = os.getenv('EMAIL')\n",
    "        self.addr_to = addr_to\n",
    "        self.charset = \"UTF-8\"\n",
    "        self.subject = subject\n",
    "        self.body = body\n",
    "\n",
    "    def send(self):\n",
    "        msg = MIMEText(self.body, 'plain', self.charset)\n",
    "        msg['Subject'] = self.subject\n",
    "        msg['From'] = self.addr_from\n",
    "        msg['To'] = self.addr_to\n",
    "\n",
    "        try:\n",
    "            # SSLコンテキストを使用してセキュアなSMTP接続を作成\n",
    "            context = ssl.create_default_context()\n",
    "            with smtplib.SMTP_SSL('smtp.gmail.com', 465, context=context) as smtp:\n",
    "                smtp.set_debuglevel(1)  # デバッグ情報を表示\n",
    "                smtp.login(self.addr_from, self.password)\n",
    "                # smtp.login(gmail.account, gmail.password)\n",
    "                smtp.send_message(msg)\n",
    "        except Exception as e:\n",
    "            print(f\"メール送信中にエラーが発生しました: {e}\")\n",
    "\n",
    "# 以下は以前のコードと変わらず...\n",
    "\n",
    "def create_mail_body(full_name):\n",
    "    body = f\"\"\"\n",
    "    {full_name}様\n",
    "\n",
    "    お世話になっております。C-mindの柿です。\n",
    "    ことらのメールはPythonによるGmailのテスト送信になります。\n",
    "\n",
    "    よろしくお願いいたします。\n",
    "\n",
    "    -----------------------\n",
    "    パイソン 太郎\n",
    "    株式会社Test\n",
    "    Engineer\n",
    "    Email: {os.getenv('EMAIL')}\n",
    "    \"\"\"\n",
    "    return body\n",
    "\n",
    "filename = './test.csv'"
   ]
  },
  {
   "cell_type": "code",
   "execution_count": 26,
   "metadata": {},
   "outputs": [
    {
     "name": "stdout",
     "output_type": "stream",
     "text": [
      "['杉 寅次郎,sugi.toragiro@gmail.com']\n",
      "['村田 清風,murata.seifuu@gmail.com']\n"
     ]
    }
   ],
   "source": [
    "# with open(filename, 'r', encoding='utf-8') as f:  # エンコーディングを指定\n",
    "with open(filename, 'r', encoding='shift_jis') as f:  # または使用しているエンコーディングに応じて変更\n",
    "    reader = csv.reader(f, delimiter='\\t')  # タブ区切りを指定\n",
    "    header = next(reader)  # ヘッダー行を読み飛ばす\n",
    "\n",
    "    for row in reader:\n",
    "        print(row)  # デバッグ用：読み込まれた行を表示\n",
    "        if len(row) < 2:  # 行に少なくとも2つの要素があるか確認\n",
    "            continue  # 要素が不足している場合は、次の行に進む\n",
    "        full_name, email = row[0].split(',')  # カンマで分割\n",
    "        print(f\"名前: {full_name}, メール: {email}\")\n",
    "        full_name = row[0]\n",
    "        print(full_name) \n",
    "        email = row[1]\n",
    "        print(email) \n",
    "        addr_to = email\n",
    "        subject = \"Pythonによるテストメール\"\n",
    "        body = create_mail_body(full_name)\n",
    "        mailer = Mailer(addr_to, subject, body)\n",
    "        mailer.send()"
   ]
  },
  {
   "cell_type": "code",
   "execution_count": null,
   "metadata": {},
   "outputs": [],
   "source": []
  }
 ],
 "metadata": {
  "kernelspec": {
   "display_name": "Python 3 (ipykernel)",
   "language": "python",
   "name": "python3"
  },
  "language_info": {
   "codemirror_mode": {
    "name": "ipython",
    "version": 3
   },
   "file_extension": ".py",
   "mimetype": "text/x-python",
   "name": "python",
   "nbconvert_exporter": "python",
   "pygments_lexer": "ipython3",
   "version": "3.9.17"
  }
 },
 "nbformat": 4,
 "nbformat_minor": 4
}
